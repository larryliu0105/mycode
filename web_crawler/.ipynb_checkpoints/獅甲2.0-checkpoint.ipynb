{
 "cells": [
  {
   "cell_type": "code",
   "execution_count": 1,
   "metadata": {
    "collapsed": false
   },
   "outputs": [],
   "source": [
    "import requests\n",
    "import uuid\n",
    "from bs4 import BeautifulSoup\n",
    "from crawlerApi import crawerAPI\n",
    "\n",
    "res = requests.get(\"http://college.kcg.gov.tw/class_info.asp?PageSize=200\")\n",
    "res.close()\n",
    "res.encoding = res.apparent_encoding"
   ]
  },
  {
   "cell_type": "code",
   "execution_count": 2,
   "metadata": {
    "collapsed": false
   },
   "outputs": [],
   "source": [
    "soup = BeautifulSoup(res.text, \"lxml\")\n",
    "big_table = soup.select(\".content\")"
   ]
  },
  {
   "cell_type": "code",
   "execution_count": 22,
   "metadata": {
    "collapsed": false
   },
   "outputs": [],
   "source": [
    "text = \"\"\n",
    "singup_link = \"http://college.kcg.gov.tw/class_info.asp?C_name=\"\n",
    "web_link = \"http://college.kcg.gov.tw/\"\n",
    "place = \"高雄市\"\n",
    "def startCrawler (link):\n",
    "    rtntext=\"\"\n",
    "    res = requests.get(link)\n",
    "    res.close()\n",
    "    res.encoding = res.apparent_encoding\n",
    "    soup = BeautifulSoup(res.text, \"lxml\")\n",
    "    table = soup.find('table', {\"bgcolor\": \"#E6E6E6\"})\n",
    "    \n",
    "    for idx, row in enumerate(table.findAll('td', {\"bgcolor\":\"#EBEBEB\"})):\n",
    "        uniqid = str(uuid.uuid4())[24:]        \n",
    "        #取出課程名稱 並轉為big5 encode\n",
    "        if idx == 2:\n",
    "            className = row.text[5:].replace('\\n','').replace('\\t','').replace('\\r','').strip()+','\n",
    "            detail_herf = str(className.encode('big5','ignore')).replace('\\\\x','%')[2:-2]\n",
    "            rtntext += row.text[5:].replace('\\n','').replace('\\t','').replace('\\r','').strip()+','\n",
    "        elif idx == 4:\n",
    "            rtntext += row.text.strip().replace(' ','').replace('-', ',')+','\n",
    "        elif idx == 8:\n",
    "            rtntext += \"\\\"\"+row.text.strip().replace('\\n','').replace('\\t','').replace('\\r','')+\"\\\"\"+','\n",
    "        elif idx == 9:\n",
    "            rtntext += singup_link+detail_herf+','+web_link+row.find('a').get('href')+'\\n'\n",
    "            #在每行最前面加上ID,place\n",
    "            rtntext = uniqid + ',' + place + ',' + rtntext\n",
    "        else:\n",
    "            rtntext += row.text.strip().replace('\\n','').replace('\\t','').replace('\\r','')+','\n",
    "    return rtntext\n",
    "    \n",
    "    \n",
    "for idx,cell in enumerate(big_table):\n",
    "    #find detail link and claw again\n",
    "    if cell.text.strip() == \"檢視\":\n",
    "        detail_link = web_link+cell.find('a').get('href')\n",
    "        text += startCrawler(detail_link)\n",
    "\n",
    "# output file\n",
    "with open('./output_file/'+'獅甲勞工大學.csv','w', encoding ='utf8') as outputfile:\n",
    "    outputfile.write('ID,place,organizer,serial_number,course_name,teacher,start_date,end_date,classtime,classroom,cost,intro,signup,detail'+'\\n')\n",
    "    outputfile.write(text)"
   ]
  },
  {
   "cell_type": "code",
   "execution_count": 24,
   "metadata": {
    "collapsed": false,
    "scrolled": true
   },
   "outputs": [],
   "source": [
    "crawerAPI.csvtojson('獅甲勞工大學.csv','獅甲勞工大學.json')"
   ]
  },
  {
   "cell_type": "code",
   "execution_count": null,
   "metadata": {
    "collapsed": true
   },
   "outputs": [],
   "source": []
  }
 ],
 "metadata": {
  "kernelspec": {
   "display_name": "Python 3",
   "language": "python",
   "name": "python3"
  },
  "language_info": {
   "codemirror_mode": {
    "name": "ipython",
    "version": 3
   },
   "file_extension": ".py",
   "mimetype": "text/x-python",
   "name": "python",
   "nbconvert_exporter": "python",
   "pygments_lexer": "ipython3",
   "version": "3.5.1"
  }
 },
 "nbformat": 4,
 "nbformat_minor": 0
}
