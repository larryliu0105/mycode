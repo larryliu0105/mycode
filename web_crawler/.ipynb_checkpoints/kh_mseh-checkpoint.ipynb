{
 "cells": [
  {
   "cell_type": "code",
   "execution_count": 1,
   "metadata": {
    "collapsed": false
   },
   "outputs": [
    {
     "name": "stdout",
     "output_type": "stream",
     "text": [
      "其他\n"
     ]
    }
   ],
   "source": [
    "import requests\n",
    "import uuid\n",
    "from crawlerApi import crawerAPI\n",
    "res = requests.get(\"http://www.kmseh.gov.tw/07_class/online.php\")\n",
    "res.close()\n",
    "res.encoding = res.apparent_encoding"
   ]
  },
  {
   "cell_type": "code",
   "execution_count": 2,
   "metadata": {
    "collapsed": false
   },
   "outputs": [],
   "source": [
    "from bs4 import BeautifulSoup\n",
    "soup = BeautifulSoup(res.text, \"lxml\")\n",
    "#print(soup.prettify())"
   ]
  },
  {
   "cell_type": "code",
   "execution_count": 19,
   "metadata": {
    "collapsed": false
   },
   "outputs": [
    {
     "name": "stdout",
     "output_type": "stream",
     "text": [
      "73e4c2b2b8bb,高雄市,小港區,高雄市小港區學府路115號,高雄社教館-教育推廣班,1,水墨畫A(日),美術繪畫,每周五 09:00~11:00,5樓研習教室,2016/05/27,2016/08/26,黃榮德,1800,25人,0人,\"基礎水墨運筆方式：山水畫、樹、石、雲、水、花鳥分段解說示範說明，落款用印及構圖原理之講解。\",\"1.適合一般初學者；2.教材自備或第一堂課登記團購。\",http://www.kmseh.gov.tw/07_class/online_detail.php?bull_id=9118,尚未開始報名,,http://www.kmseh.gov.tw/07_class/online_number.php?bull_id=9118\n",
      "97edbb695147,高雄市,小港區,高雄市小港區學府路115號,高雄社教館-教育推廣班,2,水墨畫B(夜),美術繪畫,每周五 19:00~21:00,5樓研習教室,2016/05/27,2016/08/26,黃榮德,1800,25人,0人,\"基礎水墨運筆方式：山水畫、樹、石、雲、水、花鳥分段解說示範說明，落款用印及構圖原理之講解。\",\"1.適合一般初學者；2.教材自備或第一堂課登記團購。\",http://www.kmseh.gov.tw/07_class/online_detail.php?bull_id=9119,尚未開始報名,,http://www.kmseh.gov.tw/07_class/online_number.php?bull_id=9119\n",
      "72e54efd6298,高雄市,小港區,高雄市小港區學府路115號,高雄社教館-教育推廣班,3,水墨畫進階(日),美術繪畫,每周三 09:00~11:00,5樓研習教室,2016/05/25,2016/08/17,黃榮德,1800,25人,0人,\"山水花鳥畫之各種樹、石、雲、水及花鳥之構圖原理與組合，透視觀念及創作之要領和特殊技法之講解、示範。\",\"1.具山水畫基礎；2.教材自備或第一堂課登記團購。\",http://www.kmseh.gov.tw/07_class/online_detail.php?bull_id=9120,尚未開始報名,,http://www.kmseh.gov.tw/07_class/online_number.php?bull_id=9120\n",
      "f1345be19f23,高雄市,小港區,高雄市小港區學府路115號,高雄社教館-教育推廣班,4,書法A(日),興趣才藝,每周一 09:00~11:00,5樓研習教室,2016/05/23,2016/08/15,林娜,1800,25人,0人,\"1.楷書初級、進階：臨字帖、字運、書寫作品；2.隸書初級、進階：曹全碑、字形結構介紹、書寫作品；3.行書初級。\",\"教材自備或第一堂課登記團購，包括毛筆、墨汁、硯台、黑布、筆捲、毛邊紙、大小文正、字帖〈約700元〉或電洽0929086796林娜老師。\",http://www.kmseh.gov.tw/07_class/online_detail.php?bull_id=9121,尚未開始報名,,http://www.kmseh.gov.tw/07_class/online_number.php?bull_id=9121\n",
      "07e95c70cb6c,高雄市,小港區,高雄市小港區學府路115號,高雄社教館-教育推廣班,5,書法B(夜),興趣才藝,每周一 19:00~21:00,5樓研習教室,2016/05/23,2016/08/15,黃壽全,1800,25人,0人,\"歐陽詢楷書之技法、偏旁部首之架構解說。\",\"教材自備或第一堂課登記團購，包括毛筆、墨汁、硯台、墊布、文鎮、字帖等〈約600元〉\",http://www.kmseh.gov.tw/07_class/online_detail.php?bull_id=9122,尚未開始報名,,http://www.kmseh.gov.tw/07_class/online_number.php?bull_id=9122\n",
      "53862627f1fe,高雄市,小港區,高雄市小港區學府路115號,高雄社教館-教育推廣班,6,書法入門(日),興趣才藝,每周四 09:00~11:00,5樓研習教室,2016/05/26,2016/08/25,黃壽全,1800,25人,0人,\"學習歐體楷書基礎、永字八法。\",\"教材自備或第一堂課登記團購，包括毛筆、墨汁、硯台、墊布、文鎮、字帖等〈約600元〉\",http://www.kmseh.gov.tw/07_class/online_detail.php?bull_id=9123,尚未開始報名,,http://www.kmseh.gov.tw/07_class/online_number.php?bull_id=9123\n",
      "0169a41ee3ef,高雄市,小港區,高雄市小港區學府路115號,高雄社教館-教育推廣班,7,二胡進階A(夜),樂器音樂,每周二 19:00~21:00,7樓研習教室,2016/05/24,2016/08/16,盧志遠,1800,25人,0人,\"透過流行、古典樂曲學習二胡G、D調音階，針對音質、音色、音準要求，使學員能確實領悟優美的琴聲。\",\"1.18歲以上皆可參加；2.樂器自理或租借請洽:0917757090盧老師；3.二胡教材費(約250元)。\",http://www.kmseh.gov.tw/07_class/online_detail.php?bull_id=9124,尚未開始報名,,http://www.kmseh.gov.tw/07_class/online_number.php?bull_id=9124\n",
      "50c669f4a92f,高雄市,小港區,高雄市小港區學府路115號,高雄社教館-教育推廣班,8,二胡進階B(夜),樂器音樂,每周三 19:00~21:00,7樓研習教室,2016/05/25,2016/08/17,盧志遠,1800,25人,0人,\"透過流行、古典樂曲學習二胡bB、G、D調音階，針對音質、音色、音準要求，使學員能確實領悟優美的琴聲。\",\"1.限18歲以上需熟悉二胡G、D調音階皆可參加；2.樂器自理或需代購請洽:0917757090盧老師；3.二胡教材費(約250元)。\",http://www.kmseh.gov.tw/07_class/online_detail.php?bull_id=9125,尚未開始報名,,http://www.kmseh.gov.tw/07_class/online_number.php?bull_id=9125\n",
      "a9ccbfd677ba,高雄市,小港區,高雄市小港區學府路115號,高雄社教館-教育推廣班,9,流行吉他（夜）,樂器音樂,每周四 19:00~21:00,7樓研習教室,2016/05/26,2016/08/25,楊鈞涵,1800,25人,0人,\"學習木吉他的基礎彈奏應用，現代流行音樂的概論、從基礎樂曲型態認識曲風特性，搖滾、民謠、藍調、靈魂樂等等...演奏屬於你的音樂、彈唱出詞曲的美好，建立有系統的練習方式與過濾音樂資訊的能力，讓妳/你用音樂來寫日記。\",\"1.限18歲以上；2.教材課本(由老師準備)，樂器自理或如需代購可於開課前電洽：0973288574楊老師。\",http://www.kmseh.gov.tw/07_class/online_detail.php?bull_id=9126,尚未開始報名,,http://www.kmseh.gov.tw/07_class/online_number.php?bull_id=9126\n",
      "b26286c6154f,高雄市,小港區,高雄市小港區學府路115號,高雄社教館-教育推廣班,10,生活美學—輕手作（夜）,創意手作,每周四 19:00~21:00,5樓研習教室,2016/05/26,2016/08/25,張惠英,1800,25人,0人,\"生活美學就是藉由引導，激發出潛能，使『人人都能成為生活藝術家』。嘗試不同素材的創作樂趣如編織、印染、磁畫、燒烙畫、葉畫….等。\",\"1.材料自備或第一堂課登記團購；2.工具自備或團購。\",http://www.kmseh.gov.tw/07_class/online_detail.php?bull_id=9127,尚未開始報名,,http://www.kmseh.gov.tw/07_class/online_number.php?bull_id=9127\n",
      "e54f9909f085,高雄市,小港區,高雄市小港區學府路115號,高雄社教館-教育推廣班,11,拼布藝術A(夜),其他,每周二 19:00~21:00,5樓研習教室,2016/05/24,2016/08/16,姚秀麗,1800,25人,0人,\"由淺至深，整合拼布技巧，藉由縫綴的快樂，利用多媒材，融入拼布藝術生活化，進而美化溫馨居家。如手提袋、吊飾、門簾…等。\",\"1.材料自備或第一堂課登記團購(約1,300元)；2.工具自備或團購。\",http://www.kmseh.gov.tw/07_class/online_detail.php?bull_id=9128,尚未開始報名,,http://www.kmseh.gov.tw/07_class/online_number.php?bull_id=9128\n",
      "864a1ca68ced,高雄市,小港區,高雄市小港區學府路115號,高雄社教館-教育推廣班,12,拼布藝術B(夜),其他,每周三 19:00~21:00,5樓研習教室,2016/05/25,2016/08/17,姚秀麗,1800,25人,0人,\"由淺至深，整合拼布技巧，藉由縫綴的快樂，利用多媒材，融入拼布藝術生活化，進而美化溫馨居家。如手提袋、吊飾、門簾…等。\",\"1.材料自備或第一堂課登記團購(約1,300元)；2.工具自備或團購。\",http://www.kmseh.gov.tw/07_class/online_detail.php?bull_id=9129,尚未開始報名,,http://www.kmseh.gov.tw/07_class/online_number.php?bull_id=9129\n",
      "e04b4fdcd8c5,高雄市,小港區,高雄市小港區學府路115號,高雄社教館-教育推廣班,13,閱動您的塔羅人生(夜),興趣才藝,每周五 19:00-21:00,7樓研習教室,2016/05/27,2016/08/26,宋昇易,1800,25人,0人,\"完整的學習78張偉特塔羅，透過牌陣的操作演練與解說，自然而然即可深深的牢記每張牌的內涵，課程中還可學習到瞭解自我、愛情、工作等等的專業課程。\",\"教材與塔羅牌自理或第一堂登記團購。教材以『塔羅入門–商周出版(瓊．邦寧 著)』為主，本書內附78張偉特塔羅牌一組。\",http://www.kmseh.gov.tw/07_class/online_detail.php?bull_id=9130,尚未開始報名,,http://www.kmseh.gov.tw/07_class/online_number.php?bull_id=9130\n",
      "5d86a9355916,高雄市,小港區,高雄市小港區學府路115號,高雄社教館-教育推廣班,14,詩詞賞析（日）,興趣才藝,每周六 09:30-11:30,7樓研習教室,2016/05/28,2016/09/03,周清和,1800,30人,0人,\"雁字回時，月滿西樓--李清照的美麗與哀愁(宋代才女詞人李清照的生平介紹及詞章賞析)。\",\"教材為《雁字回時，月滿西樓--李清照的美麗與哀愁》讀本。\",http://www.kmseh.gov.tw/07_class/online_detail.php?bull_id=9131,尚未開始報名,,http://www.kmseh.gov.tw/07_class/online_number.php?bull_id=9131\n",
      "1385641f8c64,高雄市,小港區,高雄市小港區學府路115號,高雄社教館-教育推廣班,15,英語會話(夜),語言學習,每周二 19:00~21:00,6樓研習教室,2016/05/24,2016/08/16,許仙岱,1800,30人,0人,\"教授實用生活會話，如購物、問路、觀光、電話接聽...等。\",\"1.具國中英語程度；2.教材自備或第一堂課團購。\",http://www.kmseh.gov.tw/07_class/online_detail.php?bull_id=9132,尚未開始報名,,http://www.kmseh.gov.tw/07_class/online_number.php?bull_id=9132\n",
      "2620f3efc1d7,高雄市,小港區,高雄市小港區學府路115號,高雄社教館-教育推廣班,16,基礎英文快樂學(夜),語言學習,每周一 19:00-21:00,7樓研習教室,2016/05/23,2016/08/15,張華玲,1800,30人,0人,\"從認識kk音標及自然發音學起，再利用活潑及生活化的課程以及透過與學員互動方式，對英文產生興趣，慢慢的有信心開口說英文。由淺入深，歡樂中學習達到最高效果，帶領進入美麗語言世界。\",\"1.適合想重新學好英文者;2.教材自備或第一堂登記團購。\",http://www.kmseh.gov.tw/07_class/online_detail.php?bull_id=9133,尚未開始報名,,http://www.kmseh.gov.tw/07_class/online_number.php?bull_id=9133\n",
      "caf50236e040,高雄市,小港區,高雄市小港區學府路115號,高雄社教館-教育推廣班,17,日語基礎Ⅲ(夜),語言學習,每周五 19:00-21:00,6樓研習教室,2016/06/03,2016/09/02,黃馨嫺,1800,30人,0人,\"教授50音及簡單日常生活會話。(教材：大家的日本語初級Ⅰ第8-10課)\",\"1.限16歲以上；2.具50音基礎;3.教材自備或第一堂課登記團購。\",http://www.kmseh.gov.tw/07_class/online_detail.php?bull_id=9134,尚未開始報名,,http://www.kmseh.gov.tw/07_class/online_number.php?bull_id=9134\n",
      "f3afdb335c8a,高雄市,小港區,高雄市小港區學府路115號,高雄社教館-教育推廣班,18,日語基礎V(夜),語言學習,每周四 19:00~21:00,6樓研習教室,2016/05/26,2016/08/25,黃美蘭,1800,30人,0人,\"教授50音及簡單日常生活會話。(教材：大家的日本語初級Ⅰ第14-16課)\",\"1.限16歲以上；2.具50音基礎;3.教材自備或第一堂課登記團購。\",http://www.kmseh.gov.tw/07_class/online_detail.php?bull_id=9135,尚未開始報名,,http://www.kmseh.gov.tw/07_class/online_number.php?bull_id=9135\n",
      "41311263d87c,高雄市,小港區,高雄市小港區學府路115號,高雄社教館-教育推廣班,19,日語基礎I(日),語言學習,每周六 09:00~11:00,6樓研習教室,2016/05/28,2016/09/03,黃美蘭,1800,30人,0人,\"教授50音及簡單日常生活會話。(教材：大家的日本語初級Ⅰ改訂版第3-5課)\",\"1.限16歲以上、2.教材自備或第一堂課團購\",http://www.kmseh.gov.tw/07_class/online_detail.php?bull_id=9136,尚未開始報名,,http://www.kmseh.gov.tw/07_class/online_number.php?bull_id=9136\n",
      "f6e2eda64c78,高雄市,小港區,高雄市小港區學府路115號,高雄社教館-教育推廣班,20,日語進階Ⅲ(夜),語言學習,每周三 19:00~21:00,6樓研習教室,2016/05/25,2016/08/17,陳瑩玉,1800,30人,0人,\"大家的日本語進階Ⅰ第36-38課\",\"1.限16歲以上；2.具50音基礎；3.教材自備。\",http://www.kmseh.gov.tw/07_class/online_detail.php?bull_id=9137,尚未開始報名,,http://www.kmseh.gov.tw/07_class/online_number.php?bull_id=9137\n",
      "40fe9c7a89ff,高雄市,小港區,高雄市小港區學府路115號,高雄社教館-教育推廣班,21,實用數位影像剪接(夜),電腦技能,每周二 19:00~21:00,6樓電腦教室,2016/05/24,2016/08/16,蔡振昆,1800,19人,0人,\"1.影片剪接＆編輯基礎介紹；2.字幕旁白＆轉場效果；3.色彩調整＆影片調整；4.影片製作；5.活用YOUTUBE的影片傳送；6.設定YOUTUBE頻道＆製作播放清單。\",\"1.熟悉電腦操作者；2.教材&上課範例由授課教師提供參考；3.上課用書本團購；4.結合生活照片製作影片並上傳YOUTUBE網路分享。 \",http://www.kmseh.gov.tw/07_class/online_detail.php?bull_id=9138,尚未開始報名,,http://www.kmseh.gov.tw/07_class/online_number.php?bull_id=9138\n",
      "c2df122d6b08,高雄市,小港區,高雄市小港區學府路115號,高雄社教館-教育推廣班,22,電腦初階(夜),電腦技能,每周四 19:00~21:00,6樓電腦教室,2016/05/26,2016/08/25,黃證嘉,1800,19人,0人,\"電腦基礎概述、電子郵件、網路生活應用、FaceBook教學、line教學。\",\"1.具電腦概念基礎者；2.教材自備或第一堂課登記團購。\",http://www.kmseh.gov.tw/07_class/online_detail.php?bull_id=9139,尚未開始報名,,http://www.kmseh.gov.tw/07_class/online_number.php?bull_id=9139\n",
      "44df9491e278,高雄市,小港區,高雄市小港區學府路115號,高雄社教館-教育推廣班,23,桌球 (夜),運動健身,每周二 19:00~21:00,地下室桌球室,2016/05/24,2016/08/16,曾城結,1800,20人,0人,\"基本握拍法、正手攻球及拉球、反手推球及拉球、步法訓練、發球與接發球訓練、比賽戰術訓練。\",\"1.對桌球運動有興趣者皆可報名參加；2.限小五以上；3.球具自理。\",http://www.kmseh.gov.tw/07_class/online_detail.php?bull_id=9140,尚未開始報名,,http://www.kmseh.gov.tw/07_class/online_number.php?bull_id=9140\n",
      "602ba3486eaf,高雄市,小港區,高雄市小港區學府路115號,高雄社教館-教育推廣班,24,經絡穴道健康法(夜),健康養生,每周一 19:00-21:00,6樓研習教室,2016/05/23,2016/08/15,蘇景星,1800,25人,0人,\"經絡穴道養生保健，堪稱庶人養生寶典，乃華人老祖宗最珍貴遺產之一，華人之偉大發現~經絡穴道，是揭開人體的一把鑰匙。課程中將依12經絡順序，依次介紹及病理按摩，使每個人都能擁有健康快樂的彩色人生。\",\"1.教材第一堂課登記團購(約300元)；2.本期教學進度：經外奇穴。\",http://www.kmseh.gov.tw/07_class/online_detail.php?bull_id=9141,尚未開始報名,,http://www.kmseh.gov.tw/07_class/online_number.php?bull_id=9141\n",
      "0136b4f52a2c,高雄市,小港區,高雄市小港區學府路115號,高雄社教館-教育推廣班,25,導引養生(夜),健康養生,每周五 19:10~21:10,5樓舞蹈教室,2016/05/27,2016/08/26,賴仲成,1800,20人,0人,\"鬆身/盤腿旋腰、攀足長筋、熊經搖盪、強化腰腿、易筋經、八段錦、回春功、龍游功、五禽戲、心、肝、脾、胃、腎、肺臟功法。\",\"自備瑜珈墊、礦泉水、毛巾\",http://www.kmseh.gov.tw/07_class/online_detail.php?bull_id=9142,尚未開始報名,,http://www.kmseh.gov.tw/07_class/online_number.php?bull_id=9142\n",
      "2a6c2d5a3aeb,高雄市,小港區,高雄市小港區學府路115號,高雄社教館-教育推廣班,26,導引養生(日),健康養生,每周四 09:00~11:00,4樓舞蹈教室,2016/05/26,2016/08/25,賴仲成,1800,19人,0人,\"鬆身/盤腿旋腰、攀足長筋、熊經搖盪、強化腰腿、易筋經、八段錦、回春功、龍游功、五禽戲、心、肝、脾、胃、腎、肺臟功法。\",\"自備瑜珈墊、礦泉水、毛巾\",http://www.kmseh.gov.tw/07_class/online_detail.php?bull_id=9143,尚未開始報名,,http://www.kmseh.gov.tw/07_class/online_number.php?bull_id=9143\n",
      "b4ad6f9ed9d7,高雄市,小港區,高雄市小港區學府路115號,高雄社教館-教育推廣班,27,中東肚皮舞(夜),運動健身,每周三 19:10~21:10,4樓舞蹈教室,2016/05/25,2016/08/17,陳雅玲,1800,19人,0人,\"加強肚皮舞技巧及動作練習，舞碼教學，配合音樂韻律節奏練習，熟悉肚皮舞風格。\",\"1.服裝、教具自理；2.限女性。\",http://www.kmseh.gov.tw/07_class/online_detail.php?bull_id=9144,尚未開始報名,,http://www.kmseh.gov.tw/07_class/online_number.php?bull_id=9144\n",
      "447cf5229f25,高雄市,小港區,高雄市小港區學府路115號,高雄社教館-教育推廣班,28,融合風肚皮舞(日),運動健身,每周五 10:00~12:00,4樓舞蹈教室,2016/05/27,2016/08/26,邱慧卿,1800,19人,0人,\"融合現代拉丁風、寶萊塢印度風、熱情南美風等...將肚皮舞注入更多活力及新鮮體驗。輕輕鬆鬆入門，享受異國風音樂及舞蹈，引領您進入神秘的肚皮舞世界。\",\"1.服裝、教具自理；2.限女性。\",http://www.kmseh.gov.tw/07_class/online_detail.php?bull_id=9145,尚未開始報名,,http://www.kmseh.gov.tw/07_class/online_number.php?bull_id=9145\n",
      "16c15d5a9994,高雄市,小港區,高雄市小港區學府路115號,高雄社教館-教育推廣班,29,體適能瑜珈(夜),運動健身,每周一、四 18:00-19:00,4樓舞蹈教室,2016/05/23,2016/08/22,黃鈺茗,1800,19人,0人,\"一種融合瑜珈、彼拉提斯的身心靈互動，對優美體態、預防運動傷害、伸展放鬆有極大的幫助。加上彈力帶/塑身球課程讓瑜伽更多元化！注重肌肉伸展和呼吸結合，還能讓身材線條會更加修長美麗。\",\"1.服裝、教具、瑜珈墊自理;2、男女兼收。\",http://www.kmseh.gov.tw/07_class/online_detail.php?bull_id=9146,尚未開始報名,,http://www.kmseh.gov.tw/07_class/online_number.php?bull_id=9146\n",
      "140c5c0ff4bc,高雄市,小港區,高雄市小港區學府路115號,高雄社教館-教育推廣班,30,樂活有氧提斯(日),運動健身,每周六 09:00-11:00,4樓舞蹈教室,2016/05/28,2016/09/03,黃肅文,1800,19人,0人,\"透過低、中衝擊有氧舞步的訓練，提升心肺的功能，幫助身體的代謝；瑜珈體位法的訓練，可改善不良的姿勢及雕塑線條。(前動後靜；動、靜態課程各1小時)\",\"1.自備毛巾、開水、瑜珈墊及室內有氧鞋；2.男女兼收\",http://www.kmseh.gov.tw/07_class/online_detail.php?bull_id=9147,尚未開始報名,,http://www.kmseh.gov.tw/07_class/online_number.php?bull_id=9147\n",
      "e50b69ce7eb6,高雄市,小港區,高雄市小港區學府路115號,高雄社教館-教育推廣班,31,彼拉提斯 (夜),其他,每周一、四 19:10~20:10,4樓舞蹈教室,2016/05/23,2016/08/22,洪雀華,1800,19人,0人,\"融合瑜珈、體操，是一種講究控制力的運動，核心肌群訓練，雕塑完美曲線。\",\"1.服裝、瑜珈墊自理；2.限女性\",http://www.kmseh.gov.tw/07_class/online_detail.php?bull_id=9148,尚未開始報名,,http://www.kmseh.gov.tw/07_class/online_number.php?bull_id=9148\n",
      "e68a339f2417,高雄市,小港區,高雄市小港區學府路115號,高雄社教館-教育推廣班,32,窈窕瑜珈 (夜),運動健身,每周一、四 20:20~21:20,4樓舞蹈教室,2016/05/23,2016/08/22,洪雀華,1800,19人,0人,\"瑜珈結合舞蹈元素的基本動作，可以雕塑纖細優美的身材，培養氣質高雅的舉止動作，不僅能使體態更優美，更能讓你擁有健康而結實的身體。\",\"1.不須舞蹈基礎；2.服裝、瑜珈墊自理；3.限女性\",http://www.kmseh.gov.tw/07_class/online_detail.php?bull_id=9149,尚未開始報名,,http://www.kmseh.gov.tw/07_class/online_number.php?bull_id=9149\n",
      "613fe78bd13d,高雄市,小港區,高雄市小港區學府路115號,高雄社教館-教育推廣班,33,ARTEMIS有氧曲線雕塑 (夜),運動健身,每周三、五 18:00~19:00,4樓舞蹈教室,2016/05/25,2016/08/24,林?祺,1800,19人,0人,\"是屬於複合性的課程，包含了高強度有氧韻律運動、核心肌群訓練及基礎肌力訓練共計三種課程，可提升心肺功能訓練及基礎代謝率。課程非固定內容，附屬課程為滾輪瑜珈，適合能持續大量運動之民眾。\",\"1.自備服裝、室內有氧鞋、瑜珈墊、彈力繩一副、按摩滾輪；2.男女兼收；3.課程強度依照當期班級強度調整上課內容皆會上課介紹；4.皆能持續上課者。\",http://www.kmseh.gov.tw/07_class/online_detail.php?bull_id=9150,尚未開始報名,,http://www.kmseh.gov.tw/07_class/online_number.php?bull_id=9150\n",
      "7f3b404886cf,高雄市,小港區,高雄市小港區學府路115號,高雄社教館-教育推廣班,34,拳擊有氧進階(夜),運動健身,每周二、四 19:15~20:15,5樓舞蹈教室,2016/05/24,2016/08/23,林?祺,1800,20人,0人,\"拳擊有氧包括跆拳、足技、拳擊、泰拳等融入課程中利用拳擊及音樂律動讓身體機能達到最高活化細胞及燃脂。配合極限拳擊、流動瑜珈及肌耐力訓練，適合運動量大，曲線要求大之民眾，屬於高強度課程。\",\"1.自備服裝、室內有氧鞋、瑜珈墊、彈力繩一副、按摩滾輪；2.男女兼收；3.需有拳擊有氧基礎概念(可於報名前詢問課程內容再報名)；4.皆能持續上課者。\",http://www.kmseh.gov.tw/07_class/online_detail.php?bull_id=9151,尚未開始報名,,http://www.kmseh.gov.tw/07_class/online_number.php?bull_id=9151\n",
      "142403b8dc43,高雄市,小港區,高雄市小港區學府路115號,高雄社教館-教育推廣班,35,ATHENA肌力有氧塑身(日),運動健身,每周三 09:30-11:30,5樓舞蹈教室,2016/05/25,2016/08/17,林?祺,1800,20人,0人,\"Athena肌力訓練包含徒手及持物肌力訓練及高間歇性有氧運動。課程著重在身體平衡雕塑及核心訓練，適合想瘦身減肥、身型調整或線條雕塑，副課程為滾輪瑜珈 、基礎拳擊有氧。適合初學者學習，上課方式:課程講解、熱身、肌力訓練等。\",\"1.室內有氧鞋、瑜珈墊、彈力繩一副、按摩滾輪；2.男女兼收；3.肌力訓練對身體雕塑瘦身效果極佳，為防傷害須學習基礎肌力概念及具備學習抗壓性，適合能持續性上課者，歡迎新生。\",http://www.kmseh.gov.tw/07_class/online_detail.php?bull_id=9152,尚未開始報名,,http://www.kmseh.gov.tw/07_class/online_number.php?bull_id=9152\n",
      "166708fdb0ae,高雄市,小港區,高雄市小港區學府路115號,高雄社教館-教育推廣班,36,30 R.U.N循環運動減重雕塑 (夜),運動健身,每周二、四 20:25-21:25,5樓舞蹈教室,2016/05/24,2016/08/23,林?祺,1800,20人,0人,\"30 R.U.N本意為30分鐘循環式連續運動，含全身性運動訓練、有氧韻律動作、間歇性運動，可提升心肺功能及肌肉密度。上課方式:課程講解、熱身、動態或靜態課程、伸展或舒緩、定期進行團體外訓，屬於中高強度課程。\",\"1.無需任何基礎且喜愛運動者；2.自備服裝、室內運動鞋、按摩滾輪、飲用水、拼貼地板；3.如有以下疾病者請事先告:心臟疾病、高血壓、關節糖尿病、血液不良症候群或換氣不良症候群者；4.男女兼收。\",http://www.kmseh.gov.tw/07_class/online_detail.php?bull_id=9153,尚未開始報名,,http://www.kmseh.gov.tw/07_class/online_number.php?bull_id=9153\n",
      "a5b7d3959808,高雄市,小港區,高雄市小港區學府路115號,高雄社教館-教育推廣班,37,活力瑜珈 (日),運動健身,每周二、五 10:15~11:15,5樓舞蹈教室,2016/05/24,2016/08/23,柯夙娟,1800,20人,0人,\"前準備體位法、呼吸法到鍛鍊各種瑜珈姿勢以平衡全身各部位機能，並教授洗腸、斷食療法等。\",\"1.服裝、教具、瑜珈墊自理；2.限女性。\",http://www.kmseh.gov.tw/07_class/online_detail.php?bull_id=9154,尚未開始報名,,http://www.kmseh.gov.tw/07_class/online_number.php?bull_id=9154\n",
      "97799eb9e007,高雄市,小港區,高雄市小港區學府路115號,高雄社教館-教育推廣班,38,動力瑜珈(夜),運動健身,每周二 18:30~20:30,4樓舞蹈教室,2016/05/24,2016/08/16,柯夙娟,1800,19人,0人,\"利用輔助工具強化肌耐力，呈現較多的動態項目，加強體能及肌力的訓練，讓瑜珈呈現更多元化的運動，並教授養身洗腸法。\",\"1.服裝、教具、瑜珈墊自理；2.男女兼收。\",http://www.kmseh.gov.tw/07_class/online_detail.php?bull_id=9155,尚未開始報名,,http://www.kmseh.gov.tw/07_class/online_number.php?bull_id=9155\n",
      "f77dfe5970f8,高雄市,小港區,高雄市小港區學府路115號,高雄社教館-教育推廣班,39,塑身瑜珈(夜),運動健身,每周三 19:10~21:10,5樓舞蹈教室,2016/05/25,2016/08/17,柯夙娟,1800,20人,0人,\"加強局部雕塑，想瘦那裡就瘦那裡，讓身體線條更明顯，並教授養身洗腸法。\",\"1.服裝、教具、瑜珈墊自理；2.男女兼收。\",http://www.kmseh.gov.tw/07_class/online_detail.php?bull_id=9156,尚未開始報名,,http://www.kmseh.gov.tw/07_class/online_number.php?bull_id=9156\n",
      "8f242ce0e2e1,高雄市,小港區,高雄市小港區學府路115號,高雄社教館-教育推廣班,40,流動瑜珈(夜),運動健身,每周五 19:10~21:10,4樓舞蹈教室,2016/05/27,2016/08/26,柯夙娟,1800,19人,0人,\"由靜態靜坐冥想進入流動瑜珈體位法，達到全身經絡活躍，加強身體柔軟度、肌耐力及增強自身免疫力，免疫力系統提昇，並教授養身洗腸法。\",\"1.服裝、教具、瑜珈墊自理；2.男女兼收。\",http://www.kmseh.gov.tw/07_class/online_detail.php?bull_id=9157,尚未開始報名,,http://www.kmseh.gov.tw/07_class/online_number.php?bull_id=9157\n",
      "b02481d5cb34,高雄市,小港區,高雄市小港區學府路115號,高雄社教館-教育推廣班,41,瑜珈A(日),運動健身,每周一、四 10:30~11:30,5樓舞蹈教室,2016/05/23,2016/08/22,王雪珍,1800,20人,0人,\"教導從瑜珈體位法，伸展動作並配合呼吸法來促進新陳代謝，強化體內機能活絡筋骨。\",\"1.服裝、教具、瑜珈墊自理；2.限女性。\",http://www.kmseh.gov.tw/07_class/online_detail.php?bull_id=9158,尚未開始報名,,http://www.kmseh.gov.tw/07_class/online_number.php?bull_id=9158\n",
      "3eb7850a55b2,高雄市,小港區,高雄市小港區學府路115號,高雄社教館-教育推廣班,42,瑜珈B(日),運動健身,每周二、五 09:00~10:00,5樓舞蹈教室,2016/05/24,2016/08/23,王雪珍,1800,20人,0人,\"教導從瑜珈體位法，伸展動作並配合呼吸法來促進新陳代謝，強化體內機能活絡筋骨。\",\"1.服裝、教具、瑜珈墊自理；2.限女性。\",http://www.kmseh.gov.tw/07_class/online_detail.php?bull_id=9159,尚未開始報名,,http://www.kmseh.gov.tw/07_class/online_number.php?bull_id=9159\n",
      "307d749a443d,高雄市,小港區,高雄市小港區學府路115號,高雄社教館-教育推廣班,43,瑜珈C(夜),運動健身,每周二、五 18:00~19:00,5樓舞蹈教室,2016/05/24,2016/08/23,王雪珍,1800,20人,0人,\"教導從瑜珈體位法，伸展動作並配合呼吸法來促進新陳代謝，強化體內機能活絡筋骨。\",\"1.服裝、教具、瑜珈墊自理；2.限女性。\",http://www.kmseh.gov.tw/07_class/online_detail.php?bull_id=9160,尚未開始報名,,http://www.kmseh.gov.tw/07_class/online_number.php?bull_id=9160\n",
      "b181ee958b22,高雄市,小港區,高雄市小港區學府路115號,高雄社教館-教育推廣班,44,瑜珈D(日),運動健身,每周六 09:00~11:00,5樓舞蹈教室,2016/05/28,2016/09/03,林紗絹,1800,20人,0人,\"瑜珈體位法、教導六類六型瑜珈姿勢，使身體伸展跟收縮促進疏筋活骨。\",\"1.服裝、教具、瑜珈墊自理；2.限女性\",http://www.kmseh.gov.tw/07_class/online_detail.php?bull_id=9161,尚未開始報名,,http://www.kmseh.gov.tw/07_class/online_number.php?bull_id=9161\n",
      "36a2b7daf34a,高雄市,小港區,高雄市小港區學府路115號,高雄社教館-教育推廣班,45,瑜珈E(夜),運動健身,每周一 19:10~21:10,5樓舞蹈教室,2016/05/23,2016/08/15,林紗絹,1800,20人,0人,\"瑜珈體位法、教導六類六型瑜珈姿勢，使身體伸展跟收縮促進疏筋活骨。\",\"1.服裝、教具、瑜珈墊自理；2.限女性\",http://www.kmseh.gov.tw/07_class/online_detail.php?bull_id=9162,尚未開始報名,,http://www.kmseh.gov.tw/07_class/online_number.php?bull_id=9162\n",
      "bf4719d883c5,高雄市,小港區,高雄市小港區學府路115號,高雄社教館-教育推廣班,46,瑜珈F(夜),運動健身,每周一、三 18:00~19:00,5樓舞蹈教室,2016/05/23,2016/08/17,林紗絹,1800,20人,0人,\"瑜珈體位法、教導六類六型瑜珈姿勢，使身體伸展跟收縮促進疏筋活骨。\",\"1.服裝、教具、瑜珈墊自理；2.限女性\",http://www.kmseh.gov.tw/07_class/online_detail.php?bull_id=9163,尚未開始報名,,http://www.kmseh.gov.tw/07_class/online_number.php?bull_id=9163\n",
      "\n"
     ]
    }
   ],
   "source": [
    "table = soup.find('table',{\"summary\":\"硬體設備\"})\n",
    "output_text= \"\"\n",
    "city = \"高雄市\"\n",
    "district = \"小港區\"\n",
    "location = \"高雄市小港區學府路115號\"\n",
    "organizer = \"高雄社教館-教育推廣班\"\n",
    "figure = \"\"\n",
    "\n",
    "def detailCrawler(link, class_weekday, text):\n",
    "    rtntext=\"\"\n",
    "    res = requests.get(link)\n",
    "    res.close()\n",
    "    res.encoding = res.apparent_encoding\n",
    "    soup = BeautifulSoup(res.text, \"lxml\")\n",
    "    table = soup.find('table', {\"bgcolor\": \"#F2A3B9\"})\n",
    "    \n",
    "    #加上ID,PLACE,organizer\n",
    "    uniqid = str(uuid.uuid4())[24:]\n",
    "    rtntext += uniqid + ',' + city + ','+ district + ',' + location + ',' + organizer + ','\n",
    "    \n",
    "    for idx, row in enumerate(table.findAll('td', {\"bgcolor\":\"#FFFFFF\"})):\n",
    "        if idx == 1:\n",
    "            className = row.text.strip().upper()\n",
    "            category = crawerAPI.courseClassify(className)\n",
    "            rtntext += className + ',' + category + ','\n",
    "        elif idx == 2:\n",
    "            rtntext += '每周'+class_weekday+' '+row.text+','\n",
    "        elif idx == 4:\n",
    "            date = row.text.strip().replace(' ','').split('~')\n",
    "            rtntext += crawerAPI.convertDateForm(date[0],2) + ',' + crawerAPI.convertDateForm(date[1],2) + ','\n",
    "        elif idx in (9,10):\n",
    "            rtntext += '\\\"'+row.text+'\\\"'+','\n",
    "        else:\n",
    "            rtntext += row.text+','\n",
    "\n",
    "    rtntext += text\n",
    "    return rtntext\n",
    "\n",
    "for row in table.findAll(\"tr\"):\n",
    "    text= \"\"\n",
    "    rowdata = row.findAll(\"td\")\n",
    "    href = \"http://www.kmseh.gov.tw/07_class/\"\n",
    "    uniqid = str(uuid.uuid4())[24:]\n",
    "    class_weekday = \"\"\n",
    "    if len(rowdata) == 10:\n",
    "        for idx, i in enumerate(rowdata):\n",
    "            if idx == 2:\n",
    "                detail_href = href + i.find('a').get('href')\n",
    "            elif idx == 3:\n",
    "                class_weekday = i.text.strip()\n",
    "            elif idx == 8:\n",
    "                singup_list_href = href + i.find('a').get('href')\n",
    "            elif idx == 9:\n",
    "                try:\n",
    "                    singup_href = href + i.find('a').get('href')\n",
    "                except:\n",
    "                    singup_href = \"尚未開始報名\"\n",
    "        text += detail_href+\",\" \n",
    "        text += singup_href+\",\"\n",
    "        text += figure+\",\"\n",
    "        text += singup_list_href+\"\\n\"\n",
    "        output_text += detailCrawler(detail_href, class_weekday ,text)\n",
    "print(output_text)  "
   ]
  },
  {
   "cell_type": "code",
   "execution_count": 21,
   "metadata": {
    "collapsed": false
   },
   "outputs": [],
   "source": [
    "with open('./output_file/'+'kh_mseh.csv','w', encoding ='utf8') as outputfile:\n",
    "    #title\n",
    "    outputfile.write('ID,city,district,location,organizer,serial_number,course_name,category,classtime,classroom,start_date,end_date,teacher,charge,num_of_people,num_of_applied,intro,note,relate_website,signup,apply_list,figure'+'\\n')\n",
    "    outputfile.write(output_text)"
   ]
  },
  {
   "cell_type": "code",
   "execution_count": 22,
   "metadata": {
    "collapsed": false
   },
   "outputs": [],
   "source": [
    "crawerAPI.csvtojson('kh_mseh.csv','kh_mseh.json')"
   ]
  }
 ],
 "metadata": {
  "kernelspec": {
   "display_name": "Python 3",
   "language": "python",
   "name": "python3"
  },
  "language_info": {
   "codemirror_mode": {
    "name": "ipython",
    "version": 3
   },
   "file_extension": ".py",
   "mimetype": "text/x-python",
   "name": "python",
   "nbconvert_exporter": "python",
   "pygments_lexer": "ipython3",
   "version": "3.5.1"
  }
 },
 "nbformat": 4,
 "nbformat_minor": 0
}
