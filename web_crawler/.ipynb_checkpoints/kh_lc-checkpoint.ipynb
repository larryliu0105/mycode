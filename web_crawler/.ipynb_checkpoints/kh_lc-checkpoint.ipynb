{
 "cells": [
  {
   "cell_type": "code",
   "execution_count": 3,
   "metadata": {
    "collapsed": false
   },
   "outputs": [],
   "source": [
    "import requests\n",
    "import uuid\n",
    "from bs4 import BeautifulSoup\n",
    "from crawlerApi import crawerAPI\n",
    "\n",
    "res = requests.get(\"http://college.kcg.gov.tw/class_info.asp?PageSize=200\")\n",
    "res.close()\n",
    "res.encoding = res.apparent_encoding"
   ]
  },
  {
   "cell_type": "code",
   "execution_count": 4,
   "metadata": {
    "collapsed": false
   },
   "outputs": [],
   "source": [
    "soup = BeautifulSoup(res.text, \"lxml\")\n",
    "big_table = soup.select(\".content\")"
   ]
  },
  {
   "cell_type": "code",
   "execution_count": 8,
   "metadata": {
    "collapsed": false
   },
   "outputs": [
    {
     "name": "stdout",
     "output_type": "stream",
     "text": [
      "kh_lc韻律有氧(A)2016-04-18\n",
      "kh_lc塑身瑜珈A班2016-04-24\n",
      "kh_lc韻律有氧(B)2016-04-18\n",
      "kh_lc韻律有氧(A)2016-04-18,高雄市,前鎮區,高雄市前鎮區中山三路132號,獅甲會館,022201,韻律有氧(A),樂器音樂,蘇美齡,2016-04-18,2016-06-23,每周一四 晚上0630~0800,獅甲會館409教室,優惠身份: 1300元     一般民眾: 1400元,\"現場親自教學，並利用身邊隨時可用的器材（如毛巾、瑜珈軟墊）等，讓學員們更快的達到運動效果。\",,http://college.kcg.gov.tw/class_info.asp?C_name=%c3%fd%ab%df%a6%b3%ae%f1(A),http://college.kcg.gov.tw/class_file/1/2492/1-22-蘇美齡－韻律有氧A-201.doc\n",
      "kh_lc塑身瑜珈A班2016-04-24,高雄市,前鎮區,高雄市前鎮區中山三路132號,獅甲會館,022202,塑身瑜珈A班,運動健身,陳仙玲,2016-04-24,2016-06-26,每周日 早上0900~1100,獅甲會館B02教室,優惠身份: 1000元     一般民眾: 1100元,\"從呼吸法和瑜伽基本八個方向伸展的基礎課程開始上起，逐漸提升層次，進入體位法、肌力和柔軟度的訓練。最後，藉由語音冥想，獲得全身性的放鬆，達到身心靈的平衡。備註:請穿著瑜伽服上課。\",,http://college.kcg.gov.tw/class_info.asp?C_name=%b6%ec%a8%ad%b7%ec%cf%c9A%afZ,http://college.kcg.gov.tw/class_file/1/2493/4-22-陳仙玲-塑身瑜珈A班-202.doc\n",
      "kh_lc韻律有氧(B)2016-04-18,高雄市,前鎮區,高雄市前鎮區中山三路132號,獅甲會館,022203,韻律有氧(B),樂器音樂,蘇美齡,2016-04-18,2016-06-23,每周一四 晚上0800~0930,獅甲會館409教室,優惠身份: 1300元     一般民眾: 1400元,\"現場親自教學，並利用身邊隋時可用的器材（如毛巾、瑜珈軟墊）等，讓學員們更快的達到運動效果。\",,http://college.kcg.gov.tw/class_info.asp?C_name=%c3%fd%ab%df%a6%b3%ae%f1(B),http://college.kcg.gov.tw/class_file/1/2498/2-22-蘇美齡－韻律有氧B-203.doc\n",
      "\n"
     ]
    }
   ],
   "source": [
    "text = \"\"\n",
    "singup_link = \"http://college.kcg.gov.tw/class_info.asp?C_name=\"\n",
    "web_link = \"http://college.kcg.gov.tw/\"\n",
    "\n",
    "city = \"高雄市\"\n",
    "districtA = \"前鎮區\"\n",
    "districtB = \"鳳山區\"\n",
    "locationA = \"高雄市前鎮區中山三路132號\"\n",
    "locationB = \"高雄市鳳山區青年路二段77號\"\n",
    "figure = \"\"\n",
    "organizer = \"kh_lc\"\n",
    "def startCrawler (link):\n",
    "    location = locationA\n",
    "    district = districtA\n",
    "    rtntext = ''\n",
    "    res = requests.get(link)\n",
    "    res.close()\n",
    "    res.encoding = res.apparent_encoding\n",
    "    soup = BeautifulSoup(res.text, \"lxml\")\n",
    "    table = soup.find('table', {\"bgcolor\": \"#E6E6E6\"})\n",
    "    \n",
    "    for idx, row in enumerate(table.findAll('td', {\"bgcolor\":\"#EBEBEB\"})):\n",
    "        uniqid = str(uuid.uuid4())[24:]\n",
    "        ID = \"\"\n",
    "        #取出課程名稱 並轉為big5 encode\n",
    "        if idx == 2:\n",
    "            className = row.text[5:].replace('\\n','').replace('\\t','').replace('\\r','').strip()\n",
    "            category = crawerAPI.courseClassify(className.upper())\n",
    "            detail_herf = str(className.encode('big5','ignore')).replace('\\\\x','%')[2:-1]\n",
    "            rtntext += className + ',' + category + ','\n",
    "            if '鳳山' in className:\n",
    "                location = locationB\n",
    "                district = districtB\n",
    "        elif idx == 4:\n",
    "            date = row.text.strip().replace(' ','').split('-')\n",
    "            sdate = crawerAPI.convertDateForm(date[0],3)\n",
    "            rtntext += sdate + ',' + crawerAPI.convertDateForm(date[1],3) + ','\n",
    "        elif idx == 8:\n",
    "            rtntext += \"\\\"\"+row.text.strip().replace('\\n','').replace('\\t','').replace('\\r','')+\"\\\"\"+','\n",
    "        elif idx == 9:\n",
    "            #最後加上報名及細節網址 \n",
    "            rtntext += figure + ',' +singup_link+detail_herf+','+web_link+row.find('a').get('href')+'\\n'\n",
    "            #在每行最前面加上ID,place\n",
    "            ID= organizer+className+sdate\n",
    "            rtntext = ID + ',' + city + ',' +  district + ',' + location + ',' + rtntext\n",
    "        elif idx >= 10:\n",
    "            continue\n",
    "        else:\n",
    "            rtntext += row.text.strip().replace('\\n','').replace('\\t','').replace('\\r','')+','\n",
    "    return rtntext\n",
    "    \n",
    "    \n",
    "for idx,cell in enumerate(big_table[:20]):\n",
    "    #find detail link and claw again\n",
    "    if cell.text.strip() == \"檢視\":\n",
    "        detail_link = web_link+cell.find('a').get('href')\n",
    "        text += startCrawler(detail_link)\n",
    "\n",
    "print(text)\n",
    "# output file\n",
    "with open('./output_file/'+'kh_lc.csv','w', encoding ='utf8') as outputfile:\n",
    "    outputfile.write('ID,city,district,location,organizer,serial_number,course_name,category,teacher,start_date,end_date,classtime,classroom,charge,intro,figure,signup,relate_website'+'\\n')\n",
    "    outputfile.write(text)"
   ]
  },
  {
   "cell_type": "code",
   "execution_count": 4,
   "metadata": {
    "collapsed": false,
    "scrolled": true
   },
   "outputs": [],
   "source": [
    "crawerAPI.csvtojson('kh_lc.csv','kh_lc.json')"
   ]
  },
  {
   "cell_type": "code",
   "execution_count": null,
   "metadata": {
    "collapsed": true
   },
   "outputs": [],
   "source": []
  }
 ],
 "metadata": {
  "kernelspec": {
   "display_name": "Python 3",
   "language": "python",
   "name": "python3"
  },
  "language_info": {
   "codemirror_mode": {
    "name": "ipython",
    "version": 3
   },
   "file_extension": ".py",
   "mimetype": "text/x-python",
   "name": "python",
   "nbconvert_exporter": "python",
   "pygments_lexer": "ipython3",
   "version": "3.5.1"
  }
 },
 "nbformat": 4,
 "nbformat_minor": 0
}
